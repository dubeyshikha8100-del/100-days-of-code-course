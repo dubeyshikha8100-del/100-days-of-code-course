{
 "cells": [
  {
   "cell_type": "markdown",
   "id": "8cf8389f",
   "metadata": {},
   "source": [
    "# python 100 days of code "
   ]
  },
  {
   "cell_type": "markdown",
   "id": "45c2d165",
   "metadata": {},
   "source": [
    "## Exercise -1"
   ]
  },
  {
   "cell_type": "markdown",
   "id": "b5236ff2",
   "metadata": {},
   "source": [
    "### day - 7 date > 16-5-2025"
   ]
  },
  {
   "cell_type": "markdown",
   "id": "235c8b99",
   "metadata": {},
   "source": [
    "#### create calcoltor"
   ]
  },
  {
   "cell_type": "markdown",
   "id": "4101be76",
   "metadata": {},
   "source": []
  },
  {
   "cell_type": "code",
   "execution_count": 1,
   "id": "bb388942",
   "metadata": {},
   "outputs": [
    {
     "name": "stdout",
     "output_type": "stream",
     "text": [
      "34\n",
      "14\n",
      "240\n",
      "2.4\n",
      "63403380965376\n",
      "2\n",
      "4\n"
     ]
    }
   ],
   "source": [
    "#create calculetor in python \n",
    "number_1 = 24\n",
    "number_2 = 10\n",
    "# logic write \n",
    "# Addition \n",
    "print(number_1 + number_2)\n",
    "#subtraction\n",
    "print(number_1 - number_2)\n",
    "#multipliction\n",
    "print(number_1 * number_2)\n",
    "# division\n",
    "print(number_1 / number_2)\n",
    "# calculete the power\n",
    "print(number_1 ** number_2)\n",
    "#division with out point\n",
    "print(number_1 // number_2)\n",
    "#percentage\n",
    "print(number_1 % number_2)\n",
    "# finsh"
   ]
  },
  {
   "cell_type": "markdown",
   "id": "792484ba",
   "metadata": {},
   "source": [
    "# Exercise 2"
   ]
  },
  {
   "cell_type": "markdown",
   "id": "0124ab23",
   "metadata": {},
   "source": [
    "## day - 15 date . 25-5-2025"
   ]
  },
  {
   "cell_type": "markdown",
   "id": "05930ef9",
   "metadata": {},
   "source": [
    "### create the program time to time good morining sir and good night sir\n",
    "### using time module\n",
    "### timestamp = time.strftime(\"%H:%m:%s\")\n",
    "### timestamp = time.steftime(\"%H\")\n",
    "### timestamp = time.steftime(\"%m\")\n",
    "### timestamp = time.steftime(\"%s\")\n",
    "### print(timestamp)\n"
   ]
  },
  {
   "cell_type": "code",
   "execution_count": 3,
   "id": "fbf1ba83",
   "metadata": {},
   "outputs": [
    {
     "ename": "AttributeError",
     "evalue": "module 'time' has no attribute 'steftime'",
     "output_type": "error",
     "traceback": [
      "\u001b[31m---------------------------------------------------------------------------\u001b[39m",
      "\u001b[31mAttributeError\u001b[39m                            Traceback (most recent call last)",
      "\u001b[36mCell\u001b[39m\u001b[36m \u001b[39m\u001b[32mIn[3]\u001b[39m\u001b[32m, line 3\u001b[39m\n\u001b[32m      1\u001b[39m \u001b[38;5;28;01mimport\u001b[39;00m\u001b[38;5;250m \u001b[39m\u001b[34;01mtime\u001b[39;00m\n\u001b[32m      2\u001b[39m timestamp = time.strftime(\u001b[33m\"\u001b[39m\u001b[33m%\u001b[39m\u001b[33mH:\u001b[39m\u001b[33m%\u001b[39m\u001b[33mm:\u001b[39m\u001b[33m\"\u001b[39m)\n\u001b[32m----> \u001b[39m\u001b[32m3\u001b[39m timestamp = \u001b[43mtime\u001b[49m\u001b[43m.\u001b[49m\u001b[43msteftime\u001b[49m(\u001b[33m\"\u001b[39m\u001b[33m%\u001b[39m\u001b[33mh\u001b[39m\u001b[33m\"\u001b[39m)\n\u001b[32m      4\u001b[39m timestamp = time.steftime(\u001b[33m\"\u001b[39m\u001b[33m%\u001b[39m\u001b[33mm\u001b[39m\u001b[33m\"\u001b[39m)\n\u001b[32m      5\u001b[39m timestamp = time.steftime(\u001b[33m\"\u001b[39m\u001b[38;5;132;01m%s\u001b[39;00m\u001b[33m\"\u001b[39m)\n",
      "\u001b[31mAttributeError\u001b[39m: module 'time' has no attribute 'steftime'"
     ]
    }
   ],
   "source": [
    "import time\n",
    "timestamp = time.strftime(\"%H:%m:\")\n",
    "timestamp = time.steftime(\"%h\")\n",
    "timestamp = time.steftime(\"%m\")\n",
    "timestamp = time.steftime(\"%s\")\n",
    "print(timestamp)\n"
   ]
  },
  {
   "cell_type": "markdown",
   "id": "018ccd7f",
   "metadata": {},
   "source": []
  },
  {
   "cell_type": "markdown",
   "id": "e16a18e8",
   "metadata": {},
   "source": [
    "# Exercise 3"
   ]
  },
  {
   "cell_type": "markdown",
   "id": "46644392",
   "metadata": {},
   "source": [
    "## Day - 27 date > 6-6-2025"
   ]
  },
  {
   "cell_type": "markdown",
   "id": "30f14b7b",
   "metadata": {},
   "source": [
    "#### use list data typre to store question and thier correct answer\n",
    "#### Display the final aomunt of persion is takeing home after playing game"
   ]
  },
  {
   "cell_type": "code",
   "execution_count": null,
   "id": "893605f6",
   "metadata": {},
   "outputs": [],
   "source": [
    "# Day = 26\n",
    "#date = 5-6-2025\n",
    "# Exercise 2 salution\n",
    "\n",
    "# Day = 27 \n",
    "# date = 6-6-2025\n",
    "# exercis 3 = create KBC type app\n",
    "# use list datatype to store the question and their correct Answer\n",
    "# display the final Amount the porsion is taking home After palying the game\n",
    "# user input \n",
    "name_user = input (\"Enter your name:\")\n",
    "print(f\"Hi {name_user}\\n Welcome to my KBC APP \\n total Question my KBC app is 5\")\n",
    "print(\"1.Question right win 5000Rs\\n2.Question right win 20000Rs\\n3.Question right win 50000Rs\\n4.Question right win 100000Rs\\n5.Question right win 200000Rs\")\n",
    "ready = input(\"you are ready yes/no:\")\n",
    "# cerateing five list with Question\n",
    "question_1 = (\"1. what is the sum of to number 15+72\\n>90\\n>92\\n>88\\n>99\")\n",
    "question_2 = (\"2.what is the multiplection of two number 5 X 15\\n>74\\n>84\\n>75\\n>62\")\n",
    "question_3 = (\"3.what is creating python list symbol \\n>()\\n>/\\n[]\")\n",
    "question_4 = (\"4.x2 = 8,find the valeu of x \\n>2\\n>3\\n>4\\n>6\")\n",
    "question_5 = (\"5.Total Question in KBC \\n>15\\n>5\\n56\")\n",
    "#writing logic\n",
    "if ready == \"yes\":\n",
    "    print(question_1)\n",
    "    Answer_1 = input(\"Enter your Answer:\")\n",
    "    if Answer_1 == \"88\":\n",
    "        print(\"Answer is right\")\n",
    "        print(question_2)\n",
    "        Answer_2 = input(\"Enter your Answer:\")\n",
    "        if Answer_2 ==\"75\":\n",
    "            print(\"answer is right\")\n",
    "            print(question_3)\n",
    "            Answer_3 = input(\"Enter your Answer:\")\n",
    "            if Answer_3 ==\"[]\":\n",
    "                print(\"answer is right\")\n",
    "                print(question_4)\n",
    "                Answer_4 = input(\"Enter your Answer:\")\n",
    "                if Answer_4 ==\"4\":\n",
    "                    print(\"answer is right\")\n",
    "                    print(question_5)\n",
    "                    Answer_5 = input(\"Enter your Answer:\")\n",
    "                    if Answer_5 ==\"75\":\n",
    "                        print(\"answer is right\")\n",
    "                        print(\"very naice you win 200000Rs\")\n",
    "    if Answer_1 !=\"88\":\n",
    "        print(\"Answer is not right\")\n",
    "        print(\"you win bouns KBC App 500Rs\")\n",
    "    elif Answer_2 != \"75\":\n",
    "        print(\"Answer is not right\")\n",
    "        print(\"you win 5000Rs\")\n",
    "    elif Answer_3 !=\"[]\":\n",
    "        print(\"Answer is not right\")\n",
    "        print(\"you win 20000Rs\")\n",
    "    elif Answer_4 != \"4\":\n",
    "        print(\"Answer is not right\")\n",
    "        print(\"you win 50000Rs\")\n",
    "    elif Answer_5 !=\"5\":\n",
    "        print(\"Answer is not right \")\n",
    "        print(\"you win 100000\")\n",
    "else:\n",
    "    print(\"Thank you for using my App\")"
   ]
  },
  {
   "cell_type": "markdown",
   "id": "ca83aa1e",
   "metadata": {},
   "source": [
    "# Exercise 4"
   ]
  },
  {
   "cell_type": "markdown",
   "id": "0f036fe7",
   "metadata": {},
   "source": [
    "## Day - 40 date > 24-6-2025"
   ]
  },
  {
   "cell_type": "markdown",
   "id": "2a2ccb5e",
   "metadata": {},
   "source": [
    "### create Exercise English languge to secret code languge"
   ]
  },
  {
   "cell_type": "markdown",
   "id": "15b6390f",
   "metadata": {},
   "source": [
    "## create Exercise using function \n",
    "- print function ()\n",
    "- comments ()\n",
    "- variables ()\n",
    "- dictionary data type ()\n",
    "- dictionary methord"
   ]
  },
  {
   "cell_type": "code",
   "execution_count": null,
   "id": "f6aeaf7c",
   "metadata": {},
   "outputs": [],
   "source": [
    "# create dictionary \n",
    "dict = {\"word\":\"shivansh\",\"santance\":\"shikha is a good boy\",\"creacter\":\"a i s o \"}\n"
   ]
  }
 ],
 "metadata": {
  "kernelspec": {
   "display_name": "package",
   "language": "python",
   "name": "python3"
  },
  "language_info": {
   "codemirror_mode": {
    "name": "ipython",
    "version": 3
   },
   "file_extension": ".py",
   "mimetype": "text/x-python",
   "name": "python",
   "nbconvert_exporter": "python",
   "pygments_lexer": "ipython3",
   "version": "3.13.5"
  }
 },
 "nbformat": 4,
 "nbformat_minor": 5
}
