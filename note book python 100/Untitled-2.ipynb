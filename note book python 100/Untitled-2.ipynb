{
 "cells": [
  {
   "cell_type": "code",
   "execution_count": null,
   "id": "a7d8c7e8",
   "metadata": {},
   "outputs": [],
   "source": [
    "print(6)"
   ]
  },
  {
   "cell_type": "code",
   "execution_count": null,
   "id": "173f9960",
   "metadata": {},
   "outputs": [],
   "source": [
    "print(\"shivansh is a good boys\")"
   ]
  },
  {
   "cell_type": "code",
   "execution_count": null,
   "id": "0793c822",
   "metadata": {},
   "outputs": [],
   "source": []
  }
 ],
 "metadata": {
  "kernelspec": {
   "display_name": "package",
   "language": "python",
   "name": "python3"
  },
  "language_info": {
   "name": "python",
   "version": "3.13.5"
  }
 },
 "nbformat": 4,
 "nbformat_minor": 5
}
