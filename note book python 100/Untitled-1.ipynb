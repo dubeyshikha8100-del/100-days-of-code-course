{
 "cells": [
  {
   "cell_type": "markdown",
   "id": "1156fb09",
   "metadata": {},
   "source": [
    "#wlcome"
   ]
  },
  {
   "cell_type": "markdown",
   "id": "6bdca4ce",
   "metadata": {},
   "source": [
    "# wecome"
   ]
  },
  {
   "cell_type": "code",
   "execution_count": null,
   "id": "619fa2e2",
   "metadata": {},
   "outputs": [],
   "source": [
    "print(\"s\")"
   ]
  },
  {
   "cell_type": "code",
   "execution_count": null,
   "id": "163df032",
   "metadata": {},
   "outputs": [],
   "source": []
  }
 ],
 "metadata": {
  "kernelspec": {
   "display_name": "package",
   "language": "python",
   "name": "python3"
  },
  "language_info": {
   "name": "python",
   "version": "3.13.5"
  }
 },
 "nbformat": 4,
 "nbformat_minor": 5
}
