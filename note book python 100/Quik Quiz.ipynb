{
 "cells": [
  {
   "cell_type": "markdown",
   "id": "becae1e0",
   "metadata": {},
   "source": [
    "# 100 all Quiz in python"
   ]
  },
  {
   "cell_type": "markdown",
   "id": "ff3d7644",
   "metadata": {},
   "source": [
    "## Quik Quiz -1"
   ]
  },
  {
   "cell_type": "markdown",
   "id": "a8320f0a",
   "metadata": {},
   "source": [
    "## day - 12 date > 22-5-2025"
   ]
  },
  {
   "cell_type": "markdown",
   "id": "ac548e76",
   "metadata": {},
   "source": [
    "### name =\"Harry\"\n",
    "### print(name[-4:-2])\n",
    "### output = len of string = 5 >> 5-4 =1 : >> 5-2 = 3 >>>> 1:3\n",
    "#### Answer = ar"
   ]
  },
  {
   "cell_type": "code",
   "execution_count": 1,
   "id": "7b3b94ec",
   "metadata": {},
   "outputs": [
    {
     "name": "stdout",
     "output_type": "stream",
     "text": [
      "ar\n"
     ]
    }
   ],
   "source": [
    "name = \"Harry\" \n",
    "print(name[-4 :-2])\n",
    "#output = ar"
   ]
  },
  {
   "cell_type": "markdown",
   "id": "f49db295",
   "metadata": {},
   "source": [
    "# Quik Quiz 2"
   ]
  },
  {
   "cell_type": "markdown",
   "id": "f2b3acd3",
   "metadata": {},
   "source": [
    "## day - 17 date > 27-5-2025"
   ]
  },
  {
   "cell_type": "markdown",
   "id": "78df54ec",
   "metadata": {},
   "source": [
    "### for king in range(1,12,3)\n",
    "### print(king)\n",
    "### output \n",
    "- 1\n",
    "- 4\n",
    "- 7\n",
    "- 10\n"
   ]
  },
  {
   "cell_type": "code",
   "execution_count": 2,
   "id": "5408240e",
   "metadata": {},
   "outputs": [
    {
     "name": "stdout",
     "output_type": "stream",
     "text": [
      "1\n",
      "4\n",
      "7\n",
      "10\n"
     ]
    }
   ],
   "source": [
    "for k in range(1,12,3):\n",
    "    print(k)\n",
    "#output \n",
    "# 1\n",
    "# 4\n",
    "# 7\n",
    "# 10"
   ]
  },
  {
   "cell_type": "markdown",
   "id": "5787fe07",
   "metadata": {},
   "source": [
    "# Quik Quiz 3"
   ]
  },
  {
   "cell_type": "markdown",
   "id": "284d1a91",
   "metadata": {},
   "source": [
    "## day - 30 date 12-6-2025"
   ]
  },
  {
   "cell_type": "markdown",
   "id": "56a69028",
   "metadata": {},
   "source": [
    "### write the program to print the fortorial of sequence"
   ]
  },
  {
   "cell_type": "markdown",
   "id": "d171f4f0",
   "metadata": {},
   "source": []
  }
 ],
 "metadata": {
  "kernelspec": {
   "display_name": "package",
   "language": "python",
   "name": "python3"
  },
  "language_info": {
   "codemirror_mode": {
    "name": "ipython",
    "version": 3
   },
   "file_extension": ".py",
   "mimetype": "text/x-python",
   "name": "python",
   "nbconvert_exporter": "python",
   "pygments_lexer": "ipython3",
   "version": "3.13.5"
  }
 },
 "nbformat": 4,
 "nbformat_minor": 5
}
